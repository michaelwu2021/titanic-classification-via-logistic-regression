{
 "cells": [
  {
   "cell_type": "code",
   "execution_count": 1,
   "id": "20dcf49d",
   "metadata": {
    "_cell_guid": "b1076dfc-b9ad-4769-8c92-a6c4dae69d19",
    "_uuid": "8f2839f25d086af736a60e9eeb907d3b93b6e0e5",
    "execution": {
     "iopub.execute_input": "2021-08-11T01:36:21.394523Z",
     "iopub.status.busy": "2021-08-11T01:36:21.393771Z",
     "iopub.status.idle": "2021-08-11T01:36:21.399234Z",
     "shell.execute_reply": "2021-08-11T01:36:21.400340Z",
     "shell.execute_reply.started": "2021-08-11T01:20:04.436082Z"
    },
    "papermill": {
     "duration": 0.050115,
     "end_time": "2021-08-11T01:36:21.400765",
     "exception": false,
     "start_time": "2021-08-11T01:36:21.350650",
     "status": "completed"
    },
    "tags": []
   },
   "outputs": [
    {
     "name": "stdout",
     "output_type": "stream",
     "text": [
      "/kaggle/input/titanic/train.csv\n",
      "/kaggle/input/titanic/test.csv\n",
      "/kaggle/input/titanic/gender_submission.csv\n"
     ]
    }
   ],
   "source": [
    "# This Python 3 environment comes with many helpful analytics libraries installed\n",
    "# It is defined by the kaggle/python Docker image: https://github.com/kaggle/docker-python\n",
    "# For example, here's several helpful packages to load\n",
    "\n",
    "import numpy as np # linear algebra\n",
    "import pandas as pd # data processing, CSV file I/O (e.g. pd.read_csv)\n",
    "\n",
    "# Input data files are available in the read-only \"../input/\" directory\n",
    "# For example, running this (by clicking run or pressing Shift+Enter) will list all files under the input directory\n",
    "\n",
    "import os\n",
    "for dirname, _, filenames in os.walk('/kaggle/input'):\n",
    "    for filename in filenames:\n",
    "        print(os.path.join(dirname, filename))\n",
    "\n",
    "# You can write up to 20GB to the current directory (/kaggle/working/) that gets preserved as output when you create a version using \"Save & Run All\" \n",
    "# You can also write temporary files to /kaggle/temp/, but they won't be saved outside of the current session"
   ]
  },
  {
   "cell_type": "markdown",
   "id": "82771380",
   "metadata": {
    "papermill": {
     "duration": 0.028536,
     "end_time": "2021-08-11T01:36:21.458613",
     "exception": false,
     "start_time": "2021-08-11T01:36:21.430077",
     "status": "completed"
    },
    "tags": []
   },
   "source": [
    "# 1. Data Preprocessing\n",
    "## 1.1 Import training set and test set"
   ]
  },
  {
   "cell_type": "code",
   "execution_count": 2,
   "id": "1540b807",
   "metadata": {
    "execution": {
     "iopub.execute_input": "2021-08-11T01:36:21.518897Z",
     "iopub.status.busy": "2021-08-11T01:36:21.518250Z",
     "iopub.status.idle": "2021-08-11T01:36:21.661616Z",
     "shell.execute_reply": "2021-08-11T01:36:21.661077Z",
     "shell.execute_reply.started": "2021-08-11T01:20:04.447295Z"
    },
    "papermill": {
     "duration": 0.175144,
     "end_time": "2021-08-11T01:36:21.661758",
     "exception": false,
     "start_time": "2021-08-11T01:36:21.486614",
     "status": "completed"
    },
    "tags": []
   },
   "outputs": [
    {
     "data": {
      "text/html": [
       "<div>\n",
       "<style scoped>\n",
       "    .dataframe tbody tr th:only-of-type {\n",
       "        vertical-align: middle;\n",
       "    }\n",
       "\n",
       "    .dataframe tbody tr th {\n",
       "        vertical-align: top;\n",
       "    }\n",
       "\n",
       "    .dataframe thead th {\n",
       "        text-align: right;\n",
       "    }\n",
       "</style>\n",
       "<table border=\"1\" class=\"dataframe\">\n",
       "  <thead>\n",
       "    <tr style=\"text-align: right;\">\n",
       "      <th></th>\n",
       "      <th>PassengerId</th>\n",
       "      <th>Survived</th>\n",
       "      <th>Pclass</th>\n",
       "      <th>Name</th>\n",
       "      <th>Sex</th>\n",
       "      <th>Age</th>\n",
       "      <th>SibSp</th>\n",
       "      <th>Parch</th>\n",
       "      <th>Ticket</th>\n",
       "      <th>Fare</th>\n",
       "      <th>Cabin</th>\n",
       "      <th>Embarked</th>\n",
       "    </tr>\n",
       "  </thead>\n",
       "  <tbody>\n",
       "    <tr>\n",
       "      <th>0</th>\n",
       "      <td>1</td>\n",
       "      <td>0</td>\n",
       "      <td>3</td>\n",
       "      <td>Braund, Mr. Owen Harris</td>\n",
       "      <td>male</td>\n",
       "      <td>22.0</td>\n",
       "      <td>1</td>\n",
       "      <td>0</td>\n",
       "      <td>A/5 21171</td>\n",
       "      <td>7.2500</td>\n",
       "      <td>NaN</td>\n",
       "      <td>S</td>\n",
       "    </tr>\n",
       "    <tr>\n",
       "      <th>1</th>\n",
       "      <td>2</td>\n",
       "      <td>1</td>\n",
       "      <td>1</td>\n",
       "      <td>Cumings, Mrs. John Bradley (Florence Briggs Th...</td>\n",
       "      <td>female</td>\n",
       "      <td>38.0</td>\n",
       "      <td>1</td>\n",
       "      <td>0</td>\n",
       "      <td>PC 17599</td>\n",
       "      <td>71.2833</td>\n",
       "      <td>C85</td>\n",
       "      <td>C</td>\n",
       "    </tr>\n",
       "    <tr>\n",
       "      <th>2</th>\n",
       "      <td>3</td>\n",
       "      <td>1</td>\n",
       "      <td>3</td>\n",
       "      <td>Heikkinen, Miss. Laina</td>\n",
       "      <td>female</td>\n",
       "      <td>26.0</td>\n",
       "      <td>0</td>\n",
       "      <td>0</td>\n",
       "      <td>STON/O2. 3101282</td>\n",
       "      <td>7.9250</td>\n",
       "      <td>NaN</td>\n",
       "      <td>S</td>\n",
       "    </tr>\n",
       "    <tr>\n",
       "      <th>3</th>\n",
       "      <td>4</td>\n",
       "      <td>1</td>\n",
       "      <td>1</td>\n",
       "      <td>Futrelle, Mrs. Jacques Heath (Lily May Peel)</td>\n",
       "      <td>female</td>\n",
       "      <td>35.0</td>\n",
       "      <td>1</td>\n",
       "      <td>0</td>\n",
       "      <td>113803</td>\n",
       "      <td>53.1000</td>\n",
       "      <td>C123</td>\n",
       "      <td>S</td>\n",
       "    </tr>\n",
       "    <tr>\n",
       "      <th>4</th>\n",
       "      <td>5</td>\n",
       "      <td>0</td>\n",
       "      <td>3</td>\n",
       "      <td>Allen, Mr. William Henry</td>\n",
       "      <td>male</td>\n",
       "      <td>35.0</td>\n",
       "      <td>0</td>\n",
       "      <td>0</td>\n",
       "      <td>373450</td>\n",
       "      <td>8.0500</td>\n",
       "      <td>NaN</td>\n",
       "      <td>S</td>\n",
       "    </tr>\n",
       "  </tbody>\n",
       "</table>\n",
       "</div>"
      ],
      "text/plain": [
       "   PassengerId  Survived  Pclass  \\\n",
       "0            1         0       3   \n",
       "1            2         1       1   \n",
       "2            3         1       3   \n",
       "3            4         1       1   \n",
       "4            5         0       3   \n",
       "\n",
       "                                                Name     Sex   Age  SibSp  \\\n",
       "0                            Braund, Mr. Owen Harris    male  22.0      1   \n",
       "1  Cumings, Mrs. John Bradley (Florence Briggs Th...  female  38.0      1   \n",
       "2                             Heikkinen, Miss. Laina  female  26.0      0   \n",
       "3       Futrelle, Mrs. Jacques Heath (Lily May Peel)  female  35.0      1   \n",
       "4                           Allen, Mr. William Henry    male  35.0      0   \n",
       "\n",
       "   Parch            Ticket     Fare Cabin Embarked  \n",
       "0      0         A/5 21171   7.2500   NaN        S  \n",
       "1      0          PC 17599  71.2833   C85        C  \n",
       "2      0  STON/O2. 3101282   7.9250   NaN        S  \n",
       "3      0            113803  53.1000  C123        S  \n",
       "4      0            373450   8.0500   NaN        S  "
      ]
     },
     "execution_count": 2,
     "metadata": {},
     "output_type": "execute_result"
    }
   ],
   "source": [
    "train = pd.read_csv('/kaggle/input/titanic/train.csv')\n",
    "train.head()"
   ]
  },
  {
   "cell_type": "code",
   "execution_count": 3,
   "id": "9b991510",
   "metadata": {
    "execution": {
     "iopub.execute_input": "2021-08-11T01:36:21.723279Z",
     "iopub.status.busy": "2021-08-11T01:36:21.722567Z",
     "iopub.status.idle": "2021-08-11T01:36:21.748611Z",
     "shell.execute_reply": "2021-08-11T01:36:21.748090Z",
     "shell.execute_reply.started": "2021-08-11T01:20:04.477943Z"
    },
    "papermill": {
     "duration": 0.058303,
     "end_time": "2021-08-11T01:36:21.748765",
     "exception": false,
     "start_time": "2021-08-11T01:36:21.690462",
     "status": "completed"
    },
    "tags": []
   },
   "outputs": [
    {
     "data": {
      "text/html": [
       "<div>\n",
       "<style scoped>\n",
       "    .dataframe tbody tr th:only-of-type {\n",
       "        vertical-align: middle;\n",
       "    }\n",
       "\n",
       "    .dataframe tbody tr th {\n",
       "        vertical-align: top;\n",
       "    }\n",
       "\n",
       "    .dataframe thead th {\n",
       "        text-align: right;\n",
       "    }\n",
       "</style>\n",
       "<table border=\"1\" class=\"dataframe\">\n",
       "  <thead>\n",
       "    <tr style=\"text-align: right;\">\n",
       "      <th></th>\n",
       "      <th>PassengerId</th>\n",
       "      <th>Pclass</th>\n",
       "      <th>Name</th>\n",
       "      <th>Sex</th>\n",
       "      <th>Age</th>\n",
       "      <th>SibSp</th>\n",
       "      <th>Parch</th>\n",
       "      <th>Ticket</th>\n",
       "      <th>Fare</th>\n",
       "      <th>Cabin</th>\n",
       "      <th>Embarked</th>\n",
       "    </tr>\n",
       "  </thead>\n",
       "  <tbody>\n",
       "    <tr>\n",
       "      <th>0</th>\n",
       "      <td>892</td>\n",
       "      <td>3</td>\n",
       "      <td>Kelly, Mr. James</td>\n",
       "      <td>male</td>\n",
       "      <td>34.5</td>\n",
       "      <td>0</td>\n",
       "      <td>0</td>\n",
       "      <td>330911</td>\n",
       "      <td>7.8292</td>\n",
       "      <td>NaN</td>\n",
       "      <td>Q</td>\n",
       "    </tr>\n",
       "    <tr>\n",
       "      <th>1</th>\n",
       "      <td>893</td>\n",
       "      <td>3</td>\n",
       "      <td>Wilkes, Mrs. James (Ellen Needs)</td>\n",
       "      <td>female</td>\n",
       "      <td>47.0</td>\n",
       "      <td>1</td>\n",
       "      <td>0</td>\n",
       "      <td>363272</td>\n",
       "      <td>7.0000</td>\n",
       "      <td>NaN</td>\n",
       "      <td>S</td>\n",
       "    </tr>\n",
       "    <tr>\n",
       "      <th>2</th>\n",
       "      <td>894</td>\n",
       "      <td>2</td>\n",
       "      <td>Myles, Mr. Thomas Francis</td>\n",
       "      <td>male</td>\n",
       "      <td>62.0</td>\n",
       "      <td>0</td>\n",
       "      <td>0</td>\n",
       "      <td>240276</td>\n",
       "      <td>9.6875</td>\n",
       "      <td>NaN</td>\n",
       "      <td>Q</td>\n",
       "    </tr>\n",
       "    <tr>\n",
       "      <th>3</th>\n",
       "      <td>895</td>\n",
       "      <td>3</td>\n",
       "      <td>Wirz, Mr. Albert</td>\n",
       "      <td>male</td>\n",
       "      <td>27.0</td>\n",
       "      <td>0</td>\n",
       "      <td>0</td>\n",
       "      <td>315154</td>\n",
       "      <td>8.6625</td>\n",
       "      <td>NaN</td>\n",
       "      <td>S</td>\n",
       "    </tr>\n",
       "    <tr>\n",
       "      <th>4</th>\n",
       "      <td>896</td>\n",
       "      <td>3</td>\n",
       "      <td>Hirvonen, Mrs. Alexander (Helga E Lindqvist)</td>\n",
       "      <td>female</td>\n",
       "      <td>22.0</td>\n",
       "      <td>1</td>\n",
       "      <td>1</td>\n",
       "      <td>3101298</td>\n",
       "      <td>12.2875</td>\n",
       "      <td>NaN</td>\n",
       "      <td>S</td>\n",
       "    </tr>\n",
       "  </tbody>\n",
       "</table>\n",
       "</div>"
      ],
      "text/plain": [
       "   PassengerId  Pclass                                          Name     Sex  \\\n",
       "0          892       3                              Kelly, Mr. James    male   \n",
       "1          893       3              Wilkes, Mrs. James (Ellen Needs)  female   \n",
       "2          894       2                     Myles, Mr. Thomas Francis    male   \n",
       "3          895       3                              Wirz, Mr. Albert    male   \n",
       "4          896       3  Hirvonen, Mrs. Alexander (Helga E Lindqvist)  female   \n",
       "\n",
       "    Age  SibSp  Parch   Ticket     Fare Cabin Embarked  \n",
       "0  34.5      0      0   330911   7.8292   NaN        Q  \n",
       "1  47.0      1      0   363272   7.0000   NaN        S  \n",
       "2  62.0      0      0   240276   9.6875   NaN        Q  \n",
       "3  27.0      0      0   315154   8.6625   NaN        S  \n",
       "4  22.0      1      1  3101298  12.2875   NaN        S  "
      ]
     },
     "execution_count": 3,
     "metadata": {},
     "output_type": "execute_result"
    }
   ],
   "source": [
    "test = pd.read_csv('/kaggle/input/titanic/test.csv')\n",
    "test.head()"
   ]
  },
  {
   "cell_type": "markdown",
   "id": "35f535a6",
   "metadata": {
    "papermill": {
     "duration": 0.028831,
     "end_time": "2021-08-11T01:36:21.807954",
     "exception": false,
     "start_time": "2021-08-11T01:36:21.779123",
     "status": "completed"
    },
    "tags": []
   },
   "source": [
    "## 1.2 Examine Dataset\n",
    "### 1.2.1 Analyze data type of each feature\n",
    "#### Categorical: nominal, ordinal, ratio, or interval-based?\n",
    "Features that contain Categorical data: Survived, Sex, Embarked\n",
    "\n",
    "Features that contain Ordinal data: Pclass\n",
    "#### Numerical: discrete, continuous, or time-series?\n",
    "Features that contain Continuous data: Age, Fare\n",
    "\n",
    "Features that contain Discrete data: SibSp, Parch"
   ]
  },
  {
   "cell_type": "markdown",
   "id": "d9025e74",
   "metadata": {
    "papermill": {
     "duration": 0.028898,
     "end_time": "2021-08-11T01:36:21.867009",
     "exception": false,
     "start_time": "2021-08-11T01:36:21.838111",
     "status": "completed"
    },
    "tags": []
   },
   "source": [
    "### 1.2.2 Find out if each feature contains null values\n",
    "#### Most features do not have null values, except for 3 features that contain null values: Age, Cabin, Embarked. \n",
    "Cabin has a lot of(80%) missing values, might consider dropping this feature;\n",
    "\n",
    "Age has some(20%) missing values, we need to fill N/A;\n",
    "\n",
    "Embarked has very little(~0.2%) missing values, fill N/A;"
   ]
  },
  {
   "cell_type": "code",
   "execution_count": 4,
   "id": "091b26f6",
   "metadata": {
    "execution": {
     "iopub.execute_input": "2021-08-11T01:36:21.936551Z",
     "iopub.status.busy": "2021-08-11T01:36:21.935750Z",
     "iopub.status.idle": "2021-08-11T01:36:21.958355Z",
     "shell.execute_reply": "2021-08-11T01:36:21.958957Z",
     "shell.execute_reply.started": "2021-08-11T01:20:04.501270Z"
    },
    "papermill": {
     "duration": 0.063093,
     "end_time": "2021-08-11T01:36:21.959145",
     "exception": false,
     "start_time": "2021-08-11T01:36:21.896052",
     "status": "completed"
    },
    "tags": []
   },
   "outputs": [
    {
     "name": "stdout",
     "output_type": "stream",
     "text": [
      "<class 'pandas.core.frame.DataFrame'>\n",
      "RangeIndex: 891 entries, 0 to 890\n",
      "Data columns (total 12 columns):\n",
      " #   Column       Non-Null Count  Dtype  \n",
      "---  ------       --------------  -----  \n",
      " 0   PassengerId  891 non-null    int64  \n",
      " 1   Survived     891 non-null    int64  \n",
      " 2   Pclass       891 non-null    int64  \n",
      " 3   Name         891 non-null    object \n",
      " 4   Sex          891 non-null    object \n",
      " 5   Age          714 non-null    float64\n",
      " 6   SibSp        891 non-null    int64  \n",
      " 7   Parch        891 non-null    int64  \n",
      " 8   Ticket       891 non-null    object \n",
      " 9   Fare         891 non-null    float64\n",
      " 10  Cabin        204 non-null    object \n",
      " 11  Embarked     889 non-null    object \n",
      "dtypes: float64(2), int64(5), object(5)\n",
      "memory usage: 83.7+ KB\n",
      "_____________________________________________\n",
      "<class 'pandas.core.frame.DataFrame'>\n",
      "RangeIndex: 418 entries, 0 to 417\n",
      "Data columns (total 11 columns):\n",
      " #   Column       Non-Null Count  Dtype  \n",
      "---  ------       --------------  -----  \n",
      " 0   PassengerId  418 non-null    int64  \n",
      " 1   Pclass       418 non-null    int64  \n",
      " 2   Name         418 non-null    object \n",
      " 3   Sex          418 non-null    object \n",
      " 4   Age          332 non-null    float64\n",
      " 5   SibSp        418 non-null    int64  \n",
      " 6   Parch        418 non-null    int64  \n",
      " 7   Ticket       418 non-null    object \n",
      " 8   Fare         417 non-null    float64\n",
      " 9   Cabin        91 non-null     object \n",
      " 10  Embarked     418 non-null    object \n",
      "dtypes: float64(2), int64(4), object(5)\n",
      "memory usage: 36.0+ KB\n"
     ]
    }
   ],
   "source": [
    "train.info()\n",
    "print('_'*45)\n",
    "test.info()"
   ]
  },
  {
   "cell_type": "code",
   "execution_count": 5,
   "id": "78611df8",
   "metadata": {
    "execution": {
     "iopub.execute_input": "2021-08-11T01:36:22.020692Z",
     "iopub.status.busy": "2021-08-11T01:36:22.020051Z",
     "iopub.status.idle": "2021-08-11T01:36:22.028679Z",
     "shell.execute_reply": "2021-08-11T01:36:22.028037Z",
     "shell.execute_reply.started": "2021-08-11T01:20:04.527106Z"
    },
    "papermill": {
     "duration": 0.040396,
     "end_time": "2021-08-11T01:36:22.028834",
     "exception": false,
     "start_time": "2021-08-11T01:36:21.988438",
     "status": "completed"
    },
    "tags": []
   },
   "outputs": [
    {
     "name": "stdout",
     "output_type": "stream",
     "text": [
      "In training set:\n",
      "Cabin has 83.88% data points missing\n",
      "Age has 21.61% data points missing\n",
      "Embarked has 0.24% data points missing\n"
     ]
    }
   ],
   "source": [
    "train_age_missing_ratio = '{:.2%}'.format((891-714)/819)\n",
    "train_cabin_missing_ratio = '{:.2%}'.format((891-204)/819)\n",
    "train_embarked_missing_ratio = '{:.2%}'.format((891-889)/819)\n",
    "print('In training set:')\n",
    "print('Cabin has',train_cabin_missing_ratio,'data points missing')\n",
    "print('Age has',train_age_missing_ratio,'data points missing')\n",
    "print('Embarked has',train_embarked_missing_ratio,'data points missing')"
   ]
  },
  {
   "cell_type": "code",
   "execution_count": 6,
   "id": "54d9d8ac",
   "metadata": {
    "execution": {
     "iopub.execute_input": "2021-08-11T01:36:22.095674Z",
     "iopub.status.busy": "2021-08-11T01:36:22.094819Z",
     "iopub.status.idle": "2021-08-11T01:36:22.098202Z",
     "shell.execute_reply": "2021-08-11T01:36:22.098695Z",
     "shell.execute_reply.started": "2021-08-11T01:20:04.535234Z"
    },
    "papermill": {
     "duration": 0.039983,
     "end_time": "2021-08-11T01:36:22.098862",
     "exception": false,
     "start_time": "2021-08-11T01:36:22.058879",
     "status": "completed"
    },
    "tags": []
   },
   "outputs": [
    {
     "name": "stdout",
     "output_type": "stream",
     "text": [
      "In test set:\n",
      "Cabin has 78.23% data points missing\n",
      "Age has 20.57% data points missing\n",
      "Embarked has 0.00% data points missing\n"
     ]
    }
   ],
   "source": [
    "age_missing_ratio = '{:.2%}'.format((418-332)/418)\n",
    "cabin_missing_ratio = '{:.2%}'.format((418-91)/418)\n",
    "embarked_missing_ratio = '{:.2%}'.format((418-418)/418)\n",
    "print('In test set:')\n",
    "print('Cabin has',cabin_missing_ratio,'data points missing')\n",
    "print('Age has',age_missing_ratio,'data points missing')\n",
    "print('Embarked has',embarked_missing_ratio,'data points missing')"
   ]
  },
  {
   "cell_type": "markdown",
   "id": "1c46ff3f",
   "metadata": {
    "papermill": {
     "duration": 0.030103,
     "end_time": "2021-08-11T01:36:22.159221",
     "exception": false,
     "start_time": "2021-08-11T01:36:22.129118",
     "status": "completed"
    },
    "tags": []
   },
   "source": [
    "### 1.2.3 Evaluate representativeness of our training set data\n",
    "#### Consider:\n",
    "1. What's the ratio of training set data to the entire population? \n",
    "\n",
    "Answer: 40.06%. Thus we have decent amount of training data. Check.\n",
    "\n",
    "2. Within training set, what's the survival rate comparing with population survival rate?\n",
    "\n",
    "Answer: Training set survival rate = 38.38%, while population survival rate = 32.46%. Data is not skewed, check.\n",
    "\n",
    "3. Within training set, what's the ratio of men and women? We want decent amount of data from both men and women.\n",
    "\n",
    "Answer: 64.76% men, and 35.24% women. Check.\n",
    "\n",
    "4. What's the distribution of passenger class within training set? We want training set to have decent amount of data across all PClasses.\n",
    "\n",
    "Answer: class 3: 55.11%; class 2: 20.65%; class 1: 24.24%. Check.\n",
    "\n",
    "5. What's the distribution of embarked class within training set? We want decent amount of data across all embarked gates too.\n",
    "\n",
    "Answer: S: 72.28%; C: 18.86%. Q: 8.64%. Check.\n",
    "\n",
    "6. What's the distribution of age within training set? We want every age group to be represented in training set.\n",
    "\n",
    "Answer: Within training set: 25% of people are older than 38, 50% of people are 20-38, 25% of people younger than 20. Check.\n",
    "\n",
    "7. What's the distribution of fare prices within training set? We want different fare price groups to be represented here.\n",
    "\n",
    "Answer: Within training set: extremly high fare passengers are recorded, while plenty of data exist for low fare and medium fare passengers. \n",
    "#### Conclusion: The training set is representative of population."
   ]
  },
  {
   "cell_type": "code",
   "execution_count": 7,
   "id": "e9b73829",
   "metadata": {
    "execution": {
     "iopub.execute_input": "2021-08-11T01:36:22.235695Z",
     "iopub.status.busy": "2021-08-11T01:36:22.233340Z",
     "iopub.status.idle": "2021-08-11T01:36:22.258089Z",
     "shell.execute_reply": "2021-08-11T01:36:22.257535Z",
     "shell.execute_reply.started": "2021-08-11T01:20:04.554176Z"
    },
    "papermill": {
     "duration": 0.069139,
     "end_time": "2021-08-11T01:36:22.258246",
     "exception": false,
     "start_time": "2021-08-11T01:36:22.189107",
     "status": "completed"
    },
    "tags": []
   },
   "outputs": [
    {
     "name": "stdout",
     "output_type": "stream",
     "text": [
      "Training set is 40.06% of entire passenger group\n",
      "\n",
      "A. Analysis of distribution of Categorical Data:\n",
      "\n",
      "   Survival rate within training set is 38.38% . Survival rate of entire passenger group is 32.46%\n",
      "\n",
      "   Men represent 64.76% . Women represent 35.24% .\n",
      "\n",
      "   Passenger class 3 has 55.11% . Passenger class 2 has 20.65% . Passenger class 1 has 24.24% .\n",
      "\n",
      "   Passengers that embarked from S =  72.28% . Passengers that embarked from C =  18.86% . Passengers that embarked from Q =  8.64%\n",
      "\n",
      "B. Analysis of distribution of Numerical Data:\n",
      "\n",
      "   Age >= 38.0 : 25% of training set. Age between 20.0 and 38.0 : 50% of training set . Age less than 20.0: 25% of training set.\n",
      "\n",
      "   Very few people paid extremly high price for tickets, while majority (75%) paid less than 31.\n"
     ]
    }
   ],
   "source": [
    "print('Training set is','{:.2%}'.format(891/2224),'of entire passenger group\\n')\n",
    "\n",
    "print('A. Analysis of distribution of Categorical Data:\\n')\n",
    "print('   Survival rate within training set is','{:.2%}'.format(train.Survived.value_counts()[1]/train.shape[0]),'. Survival rate of entire passenger group is','{:.2%}'.format((2224-1502)/2224))\n",
    "print('\\n   Men represent','{:.2%}'.format((train.Sex.value_counts()[0])/train.shape[0]),'. Women represent','{:.2%}'.format(1-(train.Sex.value_counts()[0])/train.shape[0]),'.')\n",
    "print('\\n   Passenger class 3 has','{:.2%}'.format(train.Pclass.value_counts()[3]/train.shape[0]),'. Passenger class 2 has','{:.2%}'.format(train.Pclass.value_counts()[2]/train.shape[0]), '. Passenger class 1 has', '{:.2%}'.format(train.Pclass.value_counts()[1]/train.shape[0]),'.')\n",
    "print('\\n   Passengers that embarked from S = ','{:.2%}'.format(train.Embarked.value_counts()['S']/train.shape[0]),'. Passengers that embarked from C = ','{:.2%}'.format(train.Embarked.value_counts()['C']/train.shape[0]),'. Passengers that embarked from Q = ','{:.2%}'.format(train.Embarked.value_counts()['Q']/train.shape[0]))\n",
    "print('\\nB. Analysis of distribution of Numerical Data:')\n",
    "print('\\n   Age >=',(train.Age.describe()['75%']).round(0),': 25% of training set.','Age between',(train.Age.describe()['25%']).round(0),'and',(train.Age.describe()['75%']).round(0),': 50% of training set','. Age less than 20.0: 25% of training set.')\n",
    "print('\\n   Very few people paid extremly high price for tickets, while majority (75%) paid less than 31.')"
   ]
  },
  {
   "cell_type": "markdown",
   "id": "7a02fb58",
   "metadata": {
    "papermill": {
     "duration": 0.030206,
     "end_time": "2021-08-11T01:36:22.319280",
     "exception": false,
     "start_time": "2021-08-11T01:36:22.289074",
     "status": "completed"
    },
    "tags": []
   },
   "source": [
    "## 1.3 Feature Selection\n",
    "### 1.3.1 Correlation Analysis of Categorical Features\n",
    "We can test some correlation assumptions here: we suspect that passenger class, sex, SibSp, Parch and embarked are correlated with survival.\n",
    "#### Pclass: more premium passenger class correlates with higher survival rate. Include Pclass as a feature.\n",
    "#### Sex: women had significantly higher survival rate than men. Include Sex as a feature.\n",
    "#### SibSp: In general, passengers with less siblings or spouses were more likley to survive, but we also witness when it's 0 survival rate is less than at 1/2. Consider creating a new feature by combining with Parch.\n",
    "#### Parch: In general, passengers with less Parents or children on board were more likely to survive, but we also witness when it's 0 survival rate is less than at 1/2.\n",
    "#### Emarked: passengers emarked at C had much higher survival rate, while passengers embarked at Q had 5% higher survival rate than passengers embarked at S. Include Embarked as a feature."
   ]
  },
  {
   "cell_type": "code",
   "execution_count": 8,
   "id": "7b949066",
   "metadata": {
    "execution": {
     "iopub.execute_input": "2021-08-11T01:36:22.398992Z",
     "iopub.status.busy": "2021-08-11T01:36:22.397924Z",
     "iopub.status.idle": "2021-08-11T01:36:22.427618Z",
     "shell.execute_reply": "2021-08-11T01:36:22.428113Z",
     "shell.execute_reply.started": "2021-08-11T01:20:04.589532Z"
    },
    "papermill": {
     "duration": 0.078521,
     "end_time": "2021-08-11T01:36:22.428319",
     "exception": false,
     "start_time": "2021-08-11T01:36:22.349798",
     "status": "completed"
    },
    "tags": []
   },
   "outputs": [
    {
     "name": "stdout",
     "output_type": "stream",
     "text": [
      "        Survived\n",
      "Pclass          \n",
      "1           0.63\n",
      "2           0.47\n",
      "3           0.24\n",
      "--------------------\n",
      "        Survived\n",
      "Sex             \n",
      "female      0.74\n",
      "male        0.19\n",
      "--------------------\n",
      "          Survived\n",
      "Embarked          \n",
      "C             0.55\n",
      "Q             0.39\n",
      "S             0.34\n",
      "--------------------\n",
      "       Survived\n",
      "SibSp          \n",
      "1          0.54\n",
      "2          0.46\n",
      "0          0.35\n",
      "3          0.25\n",
      "4          0.17\n",
      "5          0.00\n",
      "8          0.00\n",
      "--------------------\n",
      "       Survived\n",
      "Parch          \n",
      "3          0.60\n",
      "1          0.55\n",
      "2          0.50\n",
      "0          0.34\n",
      "5          0.20\n",
      "4          0.00\n",
      "6          0.00\n"
     ]
    }
   ],
   "source": [
    "Pclass_analysis = train[['Pclass','Survived']].groupby(['Pclass']).mean().round(2).sort_values(by = 'Survived', ascending = False)\n",
    "Sex_analysis = train[['Sex','Survived']].groupby(['Sex']).mean().round(2).sort_values(by = 'Survived', ascending = False)\n",
    "Embarked_analysis = train[['Embarked','Survived']].groupby(['Embarked']).mean().round(2).sort_values(by = 'Survived', ascending = False)\n",
    "SibSp_analysis = train[['SibSp','Survived']].groupby(['SibSp']).mean().round(2).sort_values(by = 'Survived', ascending = False)\n",
    "Parch_analysis = train[['Parch','Survived']].groupby(['Parch']).mean().round(2).sort_values(by = 'Survived', ascending = False)\n",
    "print(Pclass_analysis)\n",
    "print('-'*20)\n",
    "print(Sex_analysis)\n",
    "print('-'*20)\n",
    "print(Embarked_analysis)\n",
    "print('-'*20)\n",
    "print(SibSp_analysis)\n",
    "print('-'*20)\n",
    "print(Parch_analysis)"
   ]
  },
  {
   "cell_type": "markdown",
   "id": "0c4e9a0d",
   "metadata": {
    "execution": {
     "iopub.execute_input": "2021-08-10T16:54:44.911228Z",
     "iopub.status.busy": "2021-08-10T16:54:44.910862Z",
     "iopub.status.idle": "2021-08-10T16:54:44.934453Z",
     "shell.execute_reply": "2021-08-10T16:54:44.933236Z",
     "shell.execute_reply.started": "2021-08-10T16:54:44.911194Z"
    },
    "papermill": {
     "duration": 0.040441,
     "end_time": "2021-08-11T01:36:22.500575",
     "exception": false,
     "start_time": "2021-08-11T01:36:22.460134",
     "status": "completed"
    },
    "tags": []
   },
   "source": [
    "### 1.3.2 Correlation Analysis of Numerical Features\n",
    "To understand correlations of numerical data with survival, a common approach is to visualize by plotting histograms.\n",
    "\n",
    "We suspect that age and Fare should have correlations with survival rate.\n",
    "\n",
    "#### Age: children and elder people were more likely to survive, quadratic correlation with survival rate. Include Age as a feature.\n",
    "#### Fare: people that paid more for tickets have much higher chance of survival. Include Fare as a feature."
   ]
  },
  {
   "cell_type": "code",
   "execution_count": 9,
   "id": "fc9be235",
   "metadata": {
    "execution": {
     "iopub.execute_input": "2021-08-11T01:36:22.588379Z",
     "iopub.status.busy": "2021-08-11T01:36:22.587460Z",
     "iopub.status.idle": "2021-08-11T01:36:24.703018Z",
     "shell.execute_reply": "2021-08-11T01:36:24.702385Z",
     "shell.execute_reply.started": "2021-08-11T01:20:04.633014Z"
    },
    "papermill": {
     "duration": 2.164161,
     "end_time": "2021-08-11T01:36:24.703168",
     "exception": false,
     "start_time": "2021-08-11T01:36:22.539007",
     "status": "completed"
    },
    "tags": []
   },
   "outputs": [
    {
     "data": {
      "text/plain": [
       "<seaborn.axisgrid.FacetGrid at 0x7f4a55b17690>"
      ]
     },
     "execution_count": 9,
     "metadata": {},
     "output_type": "execute_result"
    },
    {
     "data": {
      "image/png": "[encoded data removed]",
      "text/plain": [
       "<Figure size 432x216 with 2 Axes>"
      ]
     },
     "metadata": {
      "needs_background": "light"
     },
     "output_type": "display_data"
    },
    {
     "data": {
      "image/png": "[encoded data removed]",
      "text/plain": [
       "<Figure size 432x216 with 2 Axes>"
      ]
     },
     "metadata": {
      "needs_background": "light"
     },
     "output_type": "display_data"
    }
   ],
   "source": [
    "import seaborn as sns\n",
    "import matplotlib.pyplot as plt\n",
    "\n",
    "age_visualization = sns.FacetGrid(train, col = 'Survived')\n",
    "age_visualization.map_dataframe(sns.histplot,x = 'Age')\n",
    "fare_visualization = sns.FacetGrid(train, col = 'Survived')\n",
    "fare_visualization.map_dataframe(sns.histplot,x = 'Fare')"
   ]
  },
  {
   "cell_type": "markdown",
   "id": "e70b8207",
   "metadata": {
    "papermill": {
     "duration": 0.032788,
     "end_time": "2021-08-11T01:36:24.768485",
     "exception": false,
     "start_time": "2021-08-11T01:36:24.735697",
     "status": "completed"
    },
    "tags": []
   },
   "source": [
    "### 1.3.3 Create New Features\n",
    "Before dropping Name column, we suspect there's a correlation between title(Mr. Mrs., etc.) and survival. Therefore, try extract titles from Name column and test correlations."
   ]
  },
  {
   "cell_type": "code",
   "execution_count": 10,
   "id": "bb0afa45",
   "metadata": {
    "execution": {
     "iopub.execute_input": "2021-08-11T01:36:24.864985Z",
     "iopub.status.busy": "2021-08-11T01:36:24.856384Z",
     "iopub.status.idle": "2021-08-11T01:36:24.869120Z",
     "shell.execute_reply": "2021-08-11T01:36:24.868476Z",
     "shell.execute_reply.started": "2021-08-11T01:20:05.711888Z"
    },
    "papermill": {
     "duration": 0.068588,
     "end_time": "2021-08-11T01:36:24.869261",
     "exception": false,
     "start_time": "2021-08-11T01:36:24.800673",
     "status": "completed"
    },
    "tags": []
   },
   "outputs": [
    {
     "data": {
      "text/html": [
       "<div>\n",
       "<style scoped>\n",
       "    .dataframe tbody tr th:only-of-type {\n",
       "        vertical-align: middle;\n",
       "    }\n",
       "\n",
       "    .dataframe tbody tr th {\n",
       "        vertical-align: top;\n",
       "    }\n",
       "\n",
       "    .dataframe thead th {\n",
       "        text-align: right;\n",
       "    }\n",
       "</style>\n",
       "<table border=\"1\" class=\"dataframe\">\n",
       "  <thead>\n",
       "    <tr style=\"text-align: right;\">\n",
       "      <th></th>\n",
       "      <th>Title</th>\n",
       "      <th>Survived</th>\n",
       "    </tr>\n",
       "  </thead>\n",
       "  <tbody>\n",
       "    <tr>\n",
       "      <th>0</th>\n",
       "      <td>Master</td>\n",
       "      <td>0.575000</td>\n",
       "    </tr>\n",
       "    <tr>\n",
       "      <th>1</th>\n",
       "      <td>Miss</td>\n",
       "      <td>0.702703</td>\n",
       "    </tr>\n",
       "    <tr>\n",
       "      <th>2</th>\n",
       "      <td>Mr</td>\n",
       "      <td>0.156673</td>\n",
       "    </tr>\n",
       "    <tr>\n",
       "      <th>3</th>\n",
       "      <td>Mrs</td>\n",
       "      <td>0.793651</td>\n",
       "    </tr>\n",
       "    <tr>\n",
       "      <th>4</th>\n",
       "      <td>Rare</td>\n",
       "      <td>0.347826</td>\n",
       "    </tr>\n",
       "  </tbody>\n",
       "</table>\n",
       "</div>"
      ],
      "text/plain": [
       "    Title  Survived\n",
       "0  Master  0.575000\n",
       "1    Miss  0.702703\n",
       "2      Mr  0.156673\n",
       "3     Mrs  0.793651\n",
       "4    Rare  0.347826"
      ]
     },
     "execution_count": 10,
     "metadata": {},
     "output_type": "execute_result"
    }
   ],
   "source": [
    "merge = [train,test]\n",
    "for i in merge:\n",
    "    i['Title'] = i.Name.str.extract(' ([A-Za-z]+)\\.', expand=False)\n",
    "for i in merge:\n",
    "    i['Title'] = i['Title'].replace(['Lady', 'Countess','Capt', 'Col', 'Don', 'Dr', 'Major', 'Rev', 'Sir', 'Jonkheer', 'Dona'], 'Rare')\n",
    "    i['Title'] = i['Title'].replace('Mlle', 'Miss')\n",
    "    i['Title'] = i['Title'].replace('Ms', 'Miss')\n",
    "    i['Title'] = i['Title'].replace('Mme', 'Mrs')\n",
    "    \n",
    "train[['Title', 'Survived']].groupby(['Title'], as_index=False).mean()"
   ]
  },
  {
   "cell_type": "markdown",
   "id": "26f0c9dd",
   "metadata": {
    "papermill": {
     "duration": 0.032291,
     "end_time": "2021-08-11T01:36:24.934448",
     "exception": false,
     "start_time": "2021-08-11T01:36:24.902157",
     "status": "completed"
    },
    "tags": []
   },
   "source": [
    "Not let's look at SipSp and Parch. We want to create a new feature using these two features that has a clearer correlation with survival."
   ]
  },
  {
   "cell_type": "code",
   "execution_count": 11,
   "id": "fa1492e6",
   "metadata": {
    "execution": {
     "iopub.execute_input": "2021-08-11T01:36:25.013889Z",
     "iopub.status.busy": "2021-08-11T01:36:25.010700Z",
     "iopub.status.idle": "2021-08-11T01:36:25.021765Z",
     "shell.execute_reply": "2021-08-11T01:36:25.021259Z",
     "shell.execute_reply.started": "2021-08-11T01:20:05.750911Z"
    },
    "papermill": {
     "duration": 0.054947,
     "end_time": "2021-08-11T01:36:25.021907",
     "exception": false,
     "start_time": "2021-08-11T01:36:24.966960",
     "status": "completed"
    },
    "tags": []
   },
   "outputs": [
    {
     "data": {
      "text/html": [
       "<div>\n",
       "<style scoped>\n",
       "    .dataframe tbody tr th:only-of-type {\n",
       "        vertical-align: middle;\n",
       "    }\n",
       "\n",
       "    .dataframe tbody tr th {\n",
       "        vertical-align: top;\n",
       "    }\n",
       "\n",
       "    .dataframe thead th {\n",
       "        text-align: right;\n",
       "    }\n",
       "</style>\n",
       "<table border=\"1\" class=\"dataframe\">\n",
       "  <thead>\n",
       "    <tr style=\"text-align: right;\">\n",
       "      <th></th>\n",
       "      <th>Survived</th>\n",
       "    </tr>\n",
       "    <tr>\n",
       "      <th>Family_size</th>\n",
       "      <th></th>\n",
       "    </tr>\n",
       "  </thead>\n",
       "  <tbody>\n",
       "    <tr>\n",
       "      <th>4</th>\n",
       "      <td>0.724138</td>\n",
       "    </tr>\n",
       "    <tr>\n",
       "      <th>3</th>\n",
       "      <td>0.578431</td>\n",
       "    </tr>\n",
       "    <tr>\n",
       "      <th>2</th>\n",
       "      <td>0.552795</td>\n",
       "    </tr>\n",
       "    <tr>\n",
       "      <th>7</th>\n",
       "      <td>0.333333</td>\n",
       "    </tr>\n",
       "    <tr>\n",
       "      <th>1</th>\n",
       "      <td>0.303538</td>\n",
       "    </tr>\n",
       "    <tr>\n",
       "      <th>5</th>\n",
       "      <td>0.200000</td>\n",
       "    </tr>\n",
       "    <tr>\n",
       "      <th>6</th>\n",
       "      <td>0.136364</td>\n",
       "    </tr>\n",
       "    <tr>\n",
       "      <th>8</th>\n",
       "      <td>0.000000</td>\n",
       "    </tr>\n",
       "    <tr>\n",
       "      <th>11</th>\n",
       "      <td>0.000000</td>\n",
       "    </tr>\n",
       "  </tbody>\n",
       "</table>\n",
       "</div>"
      ],
      "text/plain": [
       "             Survived\n",
       "Family_size          \n",
       "4            0.724138\n",
       "3            0.578431\n",
       "2            0.552795\n",
       "7            0.333333\n",
       "1            0.303538\n",
       "5            0.200000\n",
       "6            0.136364\n",
       "8            0.000000\n",
       "11           0.000000"
      ]
     },
     "execution_count": 11,
     "metadata": {},
     "output_type": "execute_result"
    }
   ],
   "source": [
    "for i in merge:\n",
    "    i['Family_size'] = i['SibSp']+i['Parch']+1\n",
    "train[['Family_size','Survived']].groupby(['Family_size']).mean().sort_values(by = 'Survived', ascending = False)"
   ]
  },
  {
   "cell_type": "code",
   "execution_count": 12,
   "id": "73c342bb",
   "metadata": {
    "execution": {
     "iopub.execute_input": "2021-08-11T01:36:25.101353Z",
     "iopub.status.busy": "2021-08-11T01:36:25.100025Z",
     "iopub.status.idle": "2021-08-11T01:36:25.111225Z",
     "shell.execute_reply": "2021-08-11T01:36:25.110437Z",
     "shell.execute_reply.started": "2021-08-11T01:20:05.772938Z"
    },
    "papermill": {
     "duration": 0.056604,
     "end_time": "2021-08-11T01:36:25.111374",
     "exception": false,
     "start_time": "2021-08-11T01:36:25.054770",
     "status": "completed"
    },
    "tags": []
   },
   "outputs": [
    {
     "data": {
      "text/html": [
       "<div>\n",
       "<style scoped>\n",
       "    .dataframe tbody tr th:only-of-type {\n",
       "        vertical-align: middle;\n",
       "    }\n",
       "\n",
       "    .dataframe tbody tr th {\n",
       "        vertical-align: top;\n",
       "    }\n",
       "\n",
       "    .dataframe thead th {\n",
       "        text-align: right;\n",
       "    }\n",
       "</style>\n",
       "<table border=\"1\" class=\"dataframe\">\n",
       "  <thead>\n",
       "    <tr style=\"text-align: right;\">\n",
       "      <th></th>\n",
       "      <th>Survived</th>\n",
       "    </tr>\n",
       "    <tr>\n",
       "      <th>Is_alone</th>\n",
       "      <th></th>\n",
       "    </tr>\n",
       "  </thead>\n",
       "  <tbody>\n",
       "    <tr>\n",
       "      <th>0</th>\n",
       "      <td>0.505650</td>\n",
       "    </tr>\n",
       "    <tr>\n",
       "      <th>1</th>\n",
       "      <td>0.303538</td>\n",
       "    </tr>\n",
       "  </tbody>\n",
       "</table>\n",
       "</div>"
      ],
      "text/plain": [
       "          Survived\n",
       "Is_alone          \n",
       "0         0.505650\n",
       "1         0.303538"
      ]
     },
     "execution_count": 12,
     "metadata": {},
     "output_type": "execute_result"
    }
   ],
   "source": [
    "for i in merge:\n",
    "    i['Is_alone'] = 0\n",
    "    i.loc[i['Family_size'] == 1, 'Is_alone'] = 1\n",
    "train[['Is_alone','Survived']].groupby(['Is_alone']).mean().sort_values(by = 'Survived', ascending = False)"
   ]
  },
  {
   "cell_type": "markdown",
   "id": "2421bb56",
   "metadata": {
    "papermill": {
     "duration": 0.034148,
     "end_time": "2021-08-11T01:36:25.178924",
     "exception": false,
     "start_time": "2021-08-11T01:36:25.144776",
     "status": "completed"
    },
    "tags": []
   },
   "source": [
    "### 1.3.4 Drop Useless Features\n",
    "We determined that Ticket, Cabin are useless features. Drop them."
   ]
  },
  {
   "cell_type": "code",
   "execution_count": 13,
   "id": "cd0b0e8b",
   "metadata": {
    "execution": {
     "iopub.execute_input": "2021-08-11T01:36:25.254386Z",
     "iopub.status.busy": "2021-08-11T01:36:25.253705Z",
     "iopub.status.idle": "2021-08-11T01:36:25.256077Z",
     "shell.execute_reply": "2021-08-11T01:36:25.256602Z",
     "shell.execute_reply.started": "2021-08-11T01:20:05.797289Z"
    },
    "papermill": {
     "duration": 0.044026,
     "end_time": "2021-08-11T01:36:25.256763",
     "exception": false,
     "start_time": "2021-08-11T01:36:25.212737",
     "status": "completed"
    },
    "tags": []
   },
   "outputs": [],
   "source": [
    "for i in merge:\n",
    "    i.drop(['Cabin','Ticket','Name','PassengerId','Family_size','SibSp','Parch'], axis = 1, inplace = True)"
   ]
  },
  {
   "cell_type": "markdown",
   "id": "cce90442",
   "metadata": {
    "papermill": {
     "duration": 0.035453,
     "end_time": "2021-08-11T01:36:25.325659",
     "exception": false,
     "start_time": "2021-08-11T01:36:25.290206",
     "status": "completed"
    },
    "tags": []
   },
   "source": [
    "## 1.4 Feature Transformation\n",
    "Now we have all the features we need. The final step before feeding into machine learning models is transformation of these features.\n",
    "### 1.4.1 Title Transformation\n",
    "We want to use one-hot-encoder here to transform this categorical data. Here we treat Mr as the dropped dummy variable."
   ]
  },
  {
   "cell_type": "code",
   "execution_count": 14,
   "id": "9240b038",
   "metadata": {
    "execution": {
     "iopub.execute_input": "2021-08-11T01:36:25.401732Z",
     "iopub.status.busy": "2021-08-11T01:36:25.401033Z",
     "iopub.status.idle": "2021-08-11T01:36:25.537655Z",
     "shell.execute_reply": "2021-08-11T01:36:25.537006Z",
     "shell.execute_reply.started": "2021-08-11T01:20:05.809683Z"
    },
    "papermill": {
     "duration": 0.178435,
     "end_time": "2021-08-11T01:36:25.537808",
     "exception": false,
     "start_time": "2021-08-11T01:36:25.359373",
     "status": "completed"
    },
    "tags": []
   },
   "outputs": [],
   "source": [
    "from sklearn.preprocessing import OneHotEncoder\n",
    "enc = OneHotEncoder()\n",
    "enc_df = pd.DataFrame(enc.fit_transform(train[['Title']]).toarray())\n",
    "train = train.join(enc_df)\n",
    "train.rename(columns = {0:'Master',1:'Miss',2:'Mr',3:'Mrs',4:'Rare'}, inplace = True)\n",
    "train.drop(['Title','Mr'], axis = 1, inplace = True)\n",
    "# test set\n",
    "enc_df1 = pd.DataFrame(enc.fit_transform(test[['Title']]).toarray())\n",
    "test = test.join(enc_df1)\n",
    "test.rename(columns = {0:'Master',1:'Miss',2:'Mr',3:'Mrs',4:'Rare'}, inplace = True)\n",
    "test.drop(['Title','Mr'], axis = 1, inplace = True)"
   ]
  },
  {
   "cell_type": "markdown",
   "id": "fcc88561",
   "metadata": {
    "execution": {
     "iopub.execute_input": "2021-08-10T21:14:01.789062Z",
     "iopub.status.busy": "2021-08-10T21:14:01.788677Z",
     "iopub.status.idle": "2021-08-10T21:14:01.822945Z",
     "shell.execute_reply": "2021-08-10T21:14:01.821707Z",
     "shell.execute_reply.started": "2021-08-10T21:14:01.789033Z"
    },
    "papermill": {
     "duration": 0.03443,
     "end_time": "2021-08-11T01:36:25.606587",
     "exception": false,
     "start_time": "2021-08-11T01:36:25.572157",
     "status": "completed"
    },
    "tags": []
   },
   "source": [
    "### 1.4.2 Sex Transformation\n",
    "Use one-hot-encoder here as well. Notice that we drop Female column because we treat female as the reference group."
   ]
  },
  {
   "cell_type": "code",
   "execution_count": 15,
   "id": "561d0c0b",
   "metadata": {
    "execution": {
     "iopub.execute_input": "2021-08-11T01:36:25.806965Z",
     "iopub.status.busy": "2021-08-11T01:36:25.806242Z",
     "iopub.status.idle": "2021-08-11T01:36:25.818783Z",
     "shell.execute_reply": "2021-08-11T01:36:25.818182Z",
     "shell.execute_reply.started": "2021-08-11T01:20:05.845301Z"
    },
    "papermill": {
     "duration": 0.176793,
     "end_time": "2021-08-11T01:36:25.818942",
     "exception": false,
     "start_time": "2021-08-11T01:36:25.642149",
     "status": "completed"
    },
    "tags": []
   },
   "outputs": [],
   "source": [
    "# training set\n",
    "encsex_df = pd.DataFrame(enc.fit_transform(train[['Sex']]).toarray())\n",
    "train = train.join(encsex_df)\n",
    "train.rename(columns = {0:'Female',1:'Male'}, inplace = True)\n",
    "train = train.drop(['Sex','Female'], axis = 1)\n",
    "train.head()\n",
    "# test set\n",
    "encsex_df1 = pd.DataFrame(enc.fit_transform(test[['Sex']]).toarray())\n",
    "test = test.join(encsex_df1)\n",
    "test.rename(columns = {0:'Female',1:'Male'}, inplace = True)\n",
    "test = test.drop(['Sex','Female'], axis = 1)"
   ]
  },
  {
   "cell_type": "markdown",
   "id": "a3ae6103",
   "metadata": {
    "papermill": {
     "duration": 0.033168,
     "end_time": "2021-08-11T01:36:25.885802",
     "exception": false,
     "start_time": "2021-08-11T01:36:25.852634",
     "status": "completed"
    },
    "tags": []
   },
   "source": [
    "### 1.4.3 Embarked Transformation\n",
    "The first step is to fill the null values with mode within training set.\n",
    "\n",
    "One-hot-encoder for this column too."
   ]
  },
  {
   "cell_type": "code",
   "execution_count": 16,
   "id": "de0dc254",
   "metadata": {
    "execution": {
     "iopub.execute_input": "2021-08-11T01:36:25.961413Z",
     "iopub.status.busy": "2021-08-11T01:36:25.960692Z",
     "iopub.status.idle": "2021-08-11T01:36:25.964683Z",
     "shell.execute_reply": "2021-08-11T01:36:25.964164Z",
     "shell.execute_reply.started": "2021-08-11T01:20:05.871522Z"
    },
    "papermill": {
     "duration": 0.045615,
     "end_time": "2021-08-11T01:36:25.964838",
     "exception": false,
     "start_time": "2021-08-11T01:36:25.919223",
     "status": "completed"
    },
    "tags": []
   },
   "outputs": [],
   "source": [
    "freq_embarked = train.Embarked.dropna().mode()[0]\n",
    "train['Embarked'] = train['Embarked'].fillna(freq_embarked)\n",
    "test['Embarked'] = test['Embarked'].fillna(freq_embarked)"
   ]
  },
  {
   "cell_type": "code",
   "execution_count": 17,
   "id": "388a7300",
   "metadata": {
    "execution": {
     "iopub.execute_input": "2021-08-11T01:36:26.053116Z",
     "iopub.status.busy": "2021-08-11T01:36:26.052417Z",
     "iopub.status.idle": "2021-08-11T01:36:26.055802Z",
     "shell.execute_reply": "2021-08-11T01:36:26.056397Z",
     "shell.execute_reply.started": "2021-08-11T01:20:05.881267Z"
    },
    "papermill": {
     "duration": 0.057317,
     "end_time": "2021-08-11T01:36:26.056576",
     "exception": false,
     "start_time": "2021-08-11T01:36:25.999259",
     "status": "completed"
    },
    "tags": []
   },
   "outputs": [],
   "source": [
    "# training set\n",
    "encemb_df = pd.DataFrame(enc.fit_transform(train[['Embarked']]).toarray())\n",
    "train = train.join(encemb_df)\n",
    "train.rename(columns = {0:'Embarked_C',1:'Embarked_Q',2:'Embarked_S'}, inplace = True)\n",
    "train = train.drop(['Embarked','Embarked_C'],axis = 1)\n",
    "# test set\n",
    "encemb_df1 = pd.DataFrame(enc.fit_transform(test[['Embarked']]).toarray())\n",
    "test = test.join(encemb_df1)\n",
    "test.rename(columns = {0:'Embarked_C',1:'Embarked_Q',2:'Embarked_S'}, inplace = True)\n",
    "test = test.drop(['Embarked','Embarked_C'],axis = 1)"
   ]
  },
  {
   "cell_type": "markdown",
   "id": "61aea8aa",
   "metadata": {
    "execution": {
     "iopub.execute_input": "2021-08-10T22:10:37.880124Z",
     "iopub.status.busy": "2021-08-10T22:10:37.879596Z",
     "iopub.status.idle": "2021-08-10T22:10:37.919533Z",
     "shell.execute_reply": "2021-08-10T22:10:37.918387Z",
     "shell.execute_reply.started": "2021-08-10T22:10:37.880091Z"
    },
    "papermill": {
     "duration": 0.03411,
     "end_time": "2021-08-11T01:36:26.126238",
     "exception": false,
     "start_time": "2021-08-11T01:36:26.092128",
     "status": "completed"
    },
    "tags": []
   },
   "source": [
    "### 1.4.4 Fare Transformation\n",
    "We first fill null values in test set\n",
    "\n",
    "Then we convert fare into ordinal values"
   ]
  },
  {
   "cell_type": "code",
   "execution_count": 18,
   "id": "70fce053",
   "metadata": {
    "execution": {
     "iopub.execute_input": "2021-08-11T01:36:26.198526Z",
     "iopub.status.busy": "2021-08-11T01:36:26.197827Z",
     "iopub.status.idle": "2021-08-11T01:36:26.203531Z",
     "shell.execute_reply": "2021-08-11T01:36:26.204104Z",
     "shell.execute_reply.started": "2021-08-11T01:20:05.906223Z"
    },
    "papermill": {
     "duration": 0.043738,
     "end_time": "2021-08-11T01:36:26.204285",
     "exception": false,
     "start_time": "2021-08-11T01:36:26.160547",
     "status": "completed"
    },
    "tags": []
   },
   "outputs": [],
   "source": [
    "test['Fare'].fillna(test['Fare'].dropna().median(), inplace=True)"
   ]
  },
  {
   "cell_type": "code",
   "execution_count": 19,
   "id": "0a71f0b5",
   "metadata": {
    "execution": {
     "iopub.execute_input": "2021-08-11T01:36:26.275322Z",
     "iopub.status.busy": "2021-08-11T01:36:26.274621Z",
     "iopub.status.idle": "2021-08-11T01:36:26.304367Z",
     "shell.execute_reply": "2021-08-11T01:36:26.303626Z",
     "shell.execute_reply.started": "2021-08-11T01:20:05.917178Z"
    },
    "papermill": {
     "duration": 0.066391,
     "end_time": "2021-08-11T01:36:26.304521",
     "exception": false,
     "start_time": "2021-08-11T01:36:26.238130",
     "status": "completed"
    },
    "tags": []
   },
   "outputs": [],
   "source": [
    "# quartiles\n",
    "train['FareBand'] = pd.qcut(train['Fare'],4)\n",
    "train.FareBand.value_counts()\n",
    "# update merge\n",
    "merge = [train,test]\n",
    "for i in merge:\n",
    "    i.loc[ i['Fare'] <= 7.91, 'Fare'] = 0\n",
    "    i.loc[(i['Fare'] > 7.91) & (i['Fare'] <= 14.454), 'Fare'] = 1\n",
    "    i.loc[(i['Fare'] > 14.454) & (i['Fare'] <= 31), 'Fare']   = 2\n",
    "    i.loc[ i['Fare'] > 31, 'Fare'] = 3\n",
    "    i['Fare'] = i['Fare'].astype(int)\n",
    "train = train.drop(['FareBand'], axis=1)"
   ]
  },
  {
   "cell_type": "markdown",
   "id": "aef489ee",
   "metadata": {
    "execution": {
     "iopub.execute_input": "2021-08-10T22:27:00.514000Z",
     "iopub.status.busy": "2021-08-10T22:27:00.513568Z",
     "iopub.status.idle": "2021-08-10T22:27:00.551749Z",
     "shell.execute_reply": "2021-08-10T22:27:00.550475Z",
     "shell.execute_reply.started": "2021-08-10T22:27:00.513966Z"
    },
    "papermill": {
     "duration": 0.034555,
     "end_time": "2021-08-11T01:36:26.373533",
     "exception": false,
     "start_time": "2021-08-11T01:36:26.338978",
     "status": "completed"
    },
    "tags": []
   },
   "source": [
    "### 1.4.5 Age Transformation\n",
    "We first fill null values\n",
    "\n",
    "Then we convert age into ordinal values"
   ]
  },
  {
   "cell_type": "code",
   "execution_count": 20,
   "id": "64e10cdd",
   "metadata": {
    "execution": {
     "iopub.execute_input": "2021-08-11T01:36:26.450589Z",
     "iopub.status.busy": "2021-08-11T01:36:26.449856Z",
     "iopub.status.idle": "2021-08-11T01:36:26.498593Z",
     "shell.execute_reply": "2021-08-11T01:36:26.499216Z",
     "shell.execute_reply.started": "2021-08-11T01:20:05.944667Z"
    },
    "papermill": {
     "duration": 0.091558,
     "end_time": "2021-08-11T01:36:26.499390",
     "exception": false,
     "start_time": "2021-08-11T01:36:26.407832",
     "status": "completed"
    },
    "tags": []
   },
   "outputs": [
    {
     "data": {
      "text/html": [
       "<div>\n",
       "<style scoped>\n",
       "    .dataframe tbody tr th:only-of-type {\n",
       "        vertical-align: middle;\n",
       "    }\n",
       "\n",
       "    .dataframe tbody tr th {\n",
       "        vertical-align: top;\n",
       "    }\n",
       "\n",
       "    .dataframe thead th {\n",
       "        text-align: right;\n",
       "    }\n",
       "</style>\n",
       "<table border=\"1\" class=\"dataframe\">\n",
       "  <thead>\n",
       "    <tr style=\"text-align: right;\">\n",
       "      <th></th>\n",
       "      <th>Survived</th>\n",
       "      <th>Pclass</th>\n",
       "      <th>Age</th>\n",
       "      <th>Fare</th>\n",
       "      <th>Is_alone</th>\n",
       "      <th>Master</th>\n",
       "      <th>Miss</th>\n",
       "      <th>Mrs</th>\n",
       "      <th>Rare</th>\n",
       "      <th>Male</th>\n",
       "      <th>Embarked_Q</th>\n",
       "      <th>Embarked_S</th>\n",
       "    </tr>\n",
       "  </thead>\n",
       "  <tbody>\n",
       "    <tr>\n",
       "      <th>0</th>\n",
       "      <td>0</td>\n",
       "      <td>3</td>\n",
       "      <td>22</td>\n",
       "      <td>0</td>\n",
       "      <td>0</td>\n",
       "      <td>0.0</td>\n",
       "      <td>0.0</td>\n",
       "      <td>0.0</td>\n",
       "      <td>0.0</td>\n",
       "      <td>1.0</td>\n",
       "      <td>0.0</td>\n",
       "      <td>1.0</td>\n",
       "    </tr>\n",
       "    <tr>\n",
       "      <th>1</th>\n",
       "      <td>1</td>\n",
       "      <td>1</td>\n",
       "      <td>38</td>\n",
       "      <td>3</td>\n",
       "      <td>0</td>\n",
       "      <td>0.0</td>\n",
       "      <td>0.0</td>\n",
       "      <td>1.0</td>\n",
       "      <td>0.0</td>\n",
       "      <td>0.0</td>\n",
       "      <td>0.0</td>\n",
       "      <td>0.0</td>\n",
       "    </tr>\n",
       "    <tr>\n",
       "      <th>2</th>\n",
       "      <td>1</td>\n",
       "      <td>3</td>\n",
       "      <td>26</td>\n",
       "      <td>1</td>\n",
       "      <td>1</td>\n",
       "      <td>0.0</td>\n",
       "      <td>1.0</td>\n",
       "      <td>0.0</td>\n",
       "      <td>0.0</td>\n",
       "      <td>0.0</td>\n",
       "      <td>0.0</td>\n",
       "      <td>1.0</td>\n",
       "    </tr>\n",
       "    <tr>\n",
       "      <th>3</th>\n",
       "      <td>1</td>\n",
       "      <td>1</td>\n",
       "      <td>35</td>\n",
       "      <td>3</td>\n",
       "      <td>0</td>\n",
       "      <td>0.0</td>\n",
       "      <td>0.0</td>\n",
       "      <td>1.0</td>\n",
       "      <td>0.0</td>\n",
       "      <td>0.0</td>\n",
       "      <td>0.0</td>\n",
       "      <td>1.0</td>\n",
       "    </tr>\n",
       "    <tr>\n",
       "      <th>4</th>\n",
       "      <td>0</td>\n",
       "      <td>3</td>\n",
       "      <td>35</td>\n",
       "      <td>1</td>\n",
       "      <td>1</td>\n",
       "      <td>0.0</td>\n",
       "      <td>0.0</td>\n",
       "      <td>0.0</td>\n",
       "      <td>0.0</td>\n",
       "      <td>1.0</td>\n",
       "      <td>0.0</td>\n",
       "      <td>1.0</td>\n",
       "    </tr>\n",
       "  </tbody>\n",
       "</table>\n",
       "</div>"
      ],
      "text/plain": [
       "   Survived  Pclass  Age  Fare  Is_alone  Master  Miss  Mrs  Rare  Male  \\\n",
       "0         0       3   22     0         0     0.0   0.0  0.0   0.0   1.0   \n",
       "1         1       1   38     3         0     0.0   0.0  1.0   0.0   0.0   \n",
       "2         1       3   26     1         1     0.0   1.0  0.0   0.0   0.0   \n",
       "3         1       1   35     3         0     0.0   0.0  1.0   0.0   0.0   \n",
       "4         0       3   35     1         1     0.0   0.0  0.0   0.0   1.0   \n",
       "\n",
       "   Embarked_Q  Embarked_S  \n",
       "0         0.0         1.0  \n",
       "1         0.0         0.0  \n",
       "2         0.0         1.0  \n",
       "3         0.0         1.0  \n",
       "4         0.0         1.0  "
      ]
     },
     "execution_count": 20,
     "metadata": {},
     "output_type": "execute_result"
    }
   ],
   "source": [
    "guess_ages = np.zeros((2,3))\n",
    "merge = [train, test]\n",
    "for dataset in merge:\n",
    "    for i in range(0, 2):\n",
    "        for j in range(0, 3):\n",
    "            guess_df = dataset[(dataset['Male'] == i) & \\\n",
    "                                  (dataset['Pclass'] == j+1)]['Age'].dropna()\n",
    "\n",
    "            # age_mean = guess_df.mean()\n",
    "            # age_std = guess_df.std()\n",
    "            # age_guess = rnd.uniform(age_mean - age_std, age_mean + age_std)\n",
    "\n",
    "            age_guess = guess_df.median()\n",
    "\n",
    "            # Convert random age float to nearest .5 age\n",
    "            guess_ages[i,j] = int( age_guess/0.5 + 0.5 ) * 0.5\n",
    "            \n",
    "    for i in range(0, 2):\n",
    "        for j in range(0, 3):\n",
    "            dataset.loc[ (dataset.Age.isnull()) & (dataset.Male == i) & (dataset.Pclass == j+1),\\\n",
    "                    'Age'] = guess_ages[i,j]\n",
    "\n",
    "    dataset['Age'] = dataset['Age'].astype(int)\n",
    "\n",
    "train.head()"
   ]
  },
  {
   "cell_type": "code",
   "execution_count": 21,
   "id": "6ef5505b",
   "metadata": {
    "execution": {
     "iopub.execute_input": "2021-08-11T01:36:26.572285Z",
     "iopub.status.busy": "2021-08-11T01:36:26.571624Z",
     "iopub.status.idle": "2021-08-11T01:36:26.597551Z",
     "shell.execute_reply": "2021-08-11T01:36:26.598099Z",
     "shell.execute_reply.started": "2021-08-11T01:20:06.009622Z"
    },
    "papermill": {
     "duration": 0.063713,
     "end_time": "2021-08-11T01:36:26.598326",
     "exception": false,
     "start_time": "2021-08-11T01:36:26.534613",
     "status": "completed"
    },
    "tags": []
   },
   "outputs": [],
   "source": [
    "train['AgeBand'] = pd.cut(train['Age'], 5)\n",
    "train[['AgeBand', 'Survived']].groupby(['AgeBand'], as_index=False).mean().sort_values(by='AgeBand', ascending=True)\n",
    "for i in merge:    \n",
    "    i.loc[ i['Age'] <= 16, 'Age'] = 0\n",
    "    i.loc[(i['Age'] > 16) & (i['Age'] <= 32), 'Age'] = 1\n",
    "    i.loc[(i['Age'] > 32) & (i['Age'] <= 48), 'Age'] = 2\n",
    "    i.loc[(i['Age'] > 48) & (i['Age'] <= 64), 'Age'] = 3\n",
    "    i.loc[ i['Age'] > 64, 'Age']\n",
    "train.head()\n",
    "train = train.drop(['AgeBand'], axis = 1)"
   ]
  },
  {
   "cell_type": "markdown",
   "id": "9c8cd3ff",
   "metadata": {
    "execution": {
     "iopub.execute_input": "2021-08-10T22:33:50.430239Z",
     "iopub.status.busy": "2021-08-10T22:33:50.429822Z",
     "iopub.status.idle": "2021-08-10T22:33:50.436585Z",
     "shell.execute_reply": "2021-08-10T22:33:50.435505Z",
     "shell.execute_reply.started": "2021-08-10T22:33:50.430204Z"
    },
    "papermill": {
     "duration": 0.034899,
     "end_time": "2021-08-11T01:36:26.668610",
     "exception": false,
     "start_time": "2021-08-11T01:36:26.633711",
     "status": "completed"
    },
    "tags": []
   },
   "source": [
    "# 2. Fit into Model\n",
    "## 2.1 Logistic Regression (without hyperparameter tuning or PCA)"
   ]
  },
  {
   "cell_type": "code",
   "execution_count": 22,
   "id": "38526798",
   "metadata": {
    "execution": {
     "iopub.execute_input": "2021-08-11T01:36:26.740433Z",
     "iopub.status.busy": "2021-08-11T01:36:26.739774Z",
     "iopub.status.idle": "2021-08-11T01:36:27.059011Z",
     "shell.execute_reply": "2021-08-11T01:36:27.058434Z",
     "shell.execute_reply.started": "2021-08-11T01:20:06.040212Z"
    },
    "papermill": {
     "duration": 0.356123,
     "end_time": "2021-08-11T01:36:27.059182",
     "exception": false,
     "start_time": "2021-08-11T01:36:26.703059",
     "status": "completed"
    },
    "tags": []
   },
   "outputs": [
    {
     "data": {
      "text/plain": [
       "0.8268156424581006"
      ]
     },
     "execution_count": 22,
     "metadata": {},
     "output_type": "execute_result"
    }
   ],
   "source": [
    "from sklearn.linear_model import LogisticRegression\n",
    "from sklearn.model_selection import train_test_split\n",
    "X_train = train.drop(\"Survived\", axis=1)\n",
    "Y_train = train[\"Survived\"]\n",
    "x_train,x_test,y_train,y_test = train_test_split(X_train,Y_train,train_size = 0.8)\n",
    "logreg = LogisticRegression()\n",
    "logreg.fit(x_train, y_train)\n",
    "logreg.score(x_test,y_test)"
   ]
  },
  {
   "cell_type": "markdown",
   "id": "3ac1d53a",
   "metadata": {
    "papermill": {
     "duration": 0.034151,
     "end_time": "2021-08-11T01:36:27.128387",
     "exception": false,
     "start_time": "2021-08-11T01:36:27.094236",
     "status": "completed"
    },
    "tags": []
   },
   "source": [
    "# 3. Submit Prediction"
   ]
  },
  {
   "cell_type": "code",
   "execution_count": 23,
   "id": "87a2a7f1",
   "metadata": {
    "execution": {
     "iopub.execute_input": "2021-08-11T01:36:27.204671Z",
     "iopub.status.busy": "2021-08-11T01:36:27.203883Z",
     "iopub.status.idle": "2021-08-11T01:36:27.221459Z",
     "shell.execute_reply": "2021-08-11T01:36:27.220782Z",
     "shell.execute_reply.started": "2021-08-11T01:35:00.653274Z"
    },
    "papermill": {
     "duration": 0.05881,
     "end_time": "2021-08-11T01:36:27.221602",
     "exception": false,
     "start_time": "2021-08-11T01:36:27.162792",
     "status": "completed"
    },
    "tags": []
   },
   "outputs": [
    {
     "data": {
      "text/plain": [
       "(418, 2)"
      ]
     },
     "execution_count": 23,
     "metadata": {},
     "output_type": "execute_result"
    }
   ],
   "source": [
    "test1 = pd.read_csv('/kaggle/input/titanic/test.csv')\n",
    "pred_y = logreg.predict(test)\n",
    "pred_y = pred_y.astype(int)\n",
    "pred_df = pd.DataFrame({'PassengerId':test1['PassengerId'].array,'Survived':pred_y})\n",
    "pred_df.shape"
   ]
  }
 ],
 "metadata": {
  "kernelspec": {
   "display_name": "Python 3",
   "language": "python",
   "name": "python3"
  },
  "language_info": {
   "codemirror_mode": {
    "name": "ipython",
    "version": 3
   },
   "file_extension": ".py",
   "mimetype": "text/x-python",
   "name": "python",
   "nbconvert_exporter": "python",
   "pygments_lexer": "ipython3",
   "version": "3.7.10"
  },
  "papermill": {
   "default_parameters": {},
   "duration": 14.704038,
   "end_time": "2021-08-11T01:36:28.067367",
   "environment_variables": {},
   "exception": null,
   "input_path": "__notebook__.ipynb",
   "output_path": "__notebook__.ipynb",
   "parameters": {},
   "start_time": "2021-08-11T01:36:13.363329",
   "version": "2.3.3"
  }
 },
 "nbformat": 4,
 "nbformat_minor": 5
}
